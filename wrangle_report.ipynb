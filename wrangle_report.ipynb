{
 "cells": [
  {
   "cell_type": "markdown",
   "metadata": {},
   "source": [
    "## Wragle Report"
   ]
  },
  {
   "cell_type": "markdown",
   "metadata": {},
   "source": [
    "### Introduction"
   ]
  },
  {
   "cell_type": "markdown",
   "metadata": {},
   "source": [
    "In partial fulfilment of my Data Analyst Nanodegree Course at Udacity, I did this project in order to pracice what I learnt in the data wrangling section of the course.\n",
    "The\tdataset\tthat is\twrangled is\t the famous Twitter archive\t of\tuser @dog_rates tweets,\talso known as WeRateDogs.\t\n",
    "WeRateDogs is an account which rates people's dogs with an humorous\t comment about the dog on Twitter. Majority o these ratings usually have a denominator of 10."
   ]
  },
  {
   "cell_type": "markdown",
   "metadata": {},
   "source": [
    "This report describes my data wrangling effort as briefly as possible."
   ]
  },
  {
   "cell_type": "markdown",
   "metadata": {},
   "source": [
    "### Project Details"
   ]
  },
  {
   "cell_type": "markdown",
   "metadata": {},
   "source": [
    "The following tasks were done in this project. They are:"
   ]
  },
  {
   "cell_type": "markdown",
   "metadata": {},
   "source": [
    "- Gathering\n",
    "- Assessing Data\n",
    "- Cleaning Data"
   ]
  },
  {
   "cell_type": "markdown",
   "metadata": {},
   "source": [
    "### Gathering"
   ]
  },
  {
   "cell_type": "markdown",
   "metadata": {},
   "source": [
    "Three different datasets were obtained for the purpose of this project. They are:"
   ]
  },
  {
   "cell_type": "markdown",
   "metadata": {},
   "source": [
    "##### Twitter archive file:\n",
    "I downloaded the twitter_archive_enhanced.csv manually aswas\tprovided by\tUdacity.\t"
   ]
  },
  {
   "cell_type": "markdown",
   "metadata": {},
   "source": [
    "##### The tweet image predictions:\n",
    "This file (image_predictions.tsv) is present in each tweet according to a neural network. It is hosted on Udacity's servers and was downloaded programmatically using the Requests library and the following URL: https://d17h27t6h515a5.cloudfront.net/topher/2017/August/599fd2ad_image-predictions/image-predictions.tsv"
   ]
  },
  {
   "cell_type": "markdown",
   "metadata": {},
   "source": [
    "##### Twitter API & JSON: \n",
    "I used the tweet IDs in the WeRateDogs Twitter archive, then I queried the Twitter's API for each tweet's JSON data using Python's library called Tweepy. The queried data was stored in a file called tweet_json.txt file in a json format. I iterated over the pandas dataframe in which I selected some of the data columns I was interested in and stored in a python variable tweet_json."
   ]
  },
  {
   "cell_type": "markdown",
   "metadata": {},
   "source": [
    "### Assessing Data"
   ]
  },
  {
   "cell_type": "markdown",
   "metadata": {},
   "source": [
    "After obtaining the 3 tables, I assesed the data as follows"
   ]
  },
  {
   "cell_type": "markdown",
   "metadata": {},
   "source": [
    "- Visually: using jupyter Notebook and Microsoft Excel."
   ]
  },
  {
   "cell_type": "markdown",
   "metadata": {},
   "source": [
    "- Programmatically: by using different pandas methods (e.g info, describe, duplicated)"
   ]
  },
  {
   "cell_type": "markdown",
   "metadata": {},
   "source": [
    "I identified some issues and categorised them into Quality and Tidiness Issues."
   ]
  },
  {
   "cell_type": "markdown",
   "metadata": {},
   "source": [
    "### Cleaning Data"
   ]
  },
  {
   "cell_type": "markdown",
   "metadata": {},
   "source": [
    "This part of the data wrangling\twas\tdivided\tin three parts:\n",
    "- Define, code and test\t\n",
    "These three steps were used to solve each of the issues described in the Assessing Data section."
   ]
  },
  {
   "cell_type": "markdown",
   "metadata": {},
   "source": [
    "The first step was to create a copy of the three original dataframes. Then I wrote the codes to clean, and made sure to test the codes once I am done."
   ]
  },
  {
   "cell_type": "markdown",
   "metadata": {},
   "source": [
    "- Define: Summary of the action I want to make\n",
    "- Code: Python code to effect the actions\n",
    "- Test: to confirm that the action was performed as expected."
   ]
  },
  {
   "cell_type": "markdown",
   "metadata": {},
   "source": [
    "### Cleaning Data"
   ]
  },
  {
   "cell_type": "markdown",
   "metadata": {},
   "source": [
    "Data wrangling is a major skill that anyone who works with data must have."
   ]
  },
  {
   "cell_type": "markdown",
   "metadata": {},
   "source": [
    "I used MATLAB and Excel for my final year project analysis which involves Variation of Rainfall Parameters with Height.\n",
    "Using Python Programming in this project, I have seen a lot of benefits over the two earlier mentioned softwares. \n",
    "\n",
    "The benefits are as follows"
   ]
  },
  {
   "cell_type": "markdown",
   "metadata": {},
   "source": [
    "- I am able to scrape data from the web, unlike the method I used in school, in which my Lecturer gave me the Data in a flash, which could be prone to virus which can corrupt the data. I could simply have scrapped the data directly from the weather station.\n",
    "- I could only assess my data visually as there is no provision for Programmatic Assessment.\n",
    "- It is strong in dealing with big data (much better than Excel), though MATLAB is also strong, it often makes my system hang, which makes the work slow and frustrating.\n",
    "- Documentation is made easier with the Jupyter Notebooks in order for proper referencing.\n"
   ]
  }
 ],
 "metadata": {
  "kernelspec": {
   "display_name": "Python 3",
   "language": "python",
   "name": "python3"
  },
  "language_info": {
   "codemirror_mode": {
    "name": "ipython",
    "version": 3
   },
   "file_extension": ".py",
   "mimetype": "text/x-python",
   "name": "python",
   "nbconvert_exporter": "python",
   "pygments_lexer": "ipython3",
   "version": "3.7.0"
  }
 },
 "nbformat": 4,
 "nbformat_minor": 2
}
